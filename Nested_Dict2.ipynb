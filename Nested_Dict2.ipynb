{
 "cells": [
  {
   "cell_type": "code",
   "execution_count": 1,
   "id": "a82b57b2",
   "metadata": {},
   "outputs": [
    {
     "name": "stdout",
     "output_type": "stream",
     "text": [
      "845.65\n"
     ]
    }
   ],
   "source": [
    "example_dict = {\"webpage\": {\"date\": \"12-12-2023\", \"clicks\": [\"page1\", \"page2\", \"page3\", \"page133\"],\n",
    "                            \"operating_system\": \"iPhone\", \"purchases\": [{\"order1\": 1234.65}, {\"order2\": 456.65}]}}\n",
    "\n",
    "order_total = 0\n",
    "order_count = 0\n",
    "order_avg = 0\n",
    "# Access the \"purchases\" key and iterate over the list of dictionaries\n",
    "for purchase in example_dict[\"webpage\"][\"purchases\"]:\n",
    "    # Extract the order value and add it to the total sum\n",
    "    for order_value in purchase.values():\n",
    "        order_total += order_value\n",
    "order_count = len(example_dict[\"webpage\"][\"purchases\"])\n",
    "order_avg = order_total / order_count\n",
    "\n",
    "print(\"%.2f\" % order_avg)"
   ]
  },
  {
   "cell_type": "code",
   "execution_count": null,
   "id": "ee877685",
   "metadata": {},
   "outputs": [],
   "source": []
  }
 ],
 "metadata": {
  "kernelspec": {
   "display_name": "Python 3 (ipykernel)",
   "language": "python",
   "name": "python3"
  },
  "language_info": {
   "codemirror_mode": {
    "name": "ipython",
    "version": 3
   },
   "file_extension": ".py",
   "mimetype": "text/x-python",
   "name": "python",
   "nbconvert_exporter": "python",
   "pygments_lexer": "ipython3",
   "version": "3.9.7"
  }
 },
 "nbformat": 4,
 "nbformat_minor": 5
}
